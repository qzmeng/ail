{
 "cells": [
  {
   "cell_type": "markdown",
   "metadata": {},
   "source": [
    "# Learning to classify text\n",
    "\n",
    "Text classification is the task of classifying a document into a known category.\n",
    "In this case we use Multinomial Naive bayes (generative algorithm) to learn and classify the documents based on labelled examples.  (supervised learning)\n",
    "\n",
    "The first problem is to process the text.\n",
    "We use the *bag of words* representation to turn each document into a vector\n",
    "\n",
    "# Feature extraction"
   ]
  },
  {
   "cell_type": "code",
   "execution_count": 1,
   "metadata": {},
   "outputs": [],
   "source": [
    "import sklearn\n",
    "import sklearn.feature_extraction.text\n",
    "\n",
    "vec=sklearn.feature_extraction.text.CountVectorizer()\n",
    "mat=vec.fit_transform([\n",
    "    open('lyrics/clash/livinginfame.txt').read(),\n",
    "    open('lyrics/clash/londoncalling.txt').read(),\n",
    "    open('lyrics/clash/hateandwar.txt').read(),\n",
    "    \n",
    "    open('lyrics/gaga/pokerface.txt').read(),\n",
    "    open('lyrics/gaga/lovesickgirl.txt').read(),\n",
    "    open('lyrics/gaga/animal.txt').read()])\n",
    "\n",
    "\n"
   ]
  },
  {
   "cell_type": "markdown",
   "metadata": {},
   "source": [
    "Turn all the the document vectors into a matrix.\n",
    "\n",
    "One dimension are the words (features) and the other dimension is each document.\n",
    "\n",
    "Note: problem of sparsity, stopping, stemming, misspellings etc"
   ]
  },
  {
   "cell_type": "code",
   "execution_count": 2,
   "metadata": {},
   "outputs": [
    {
     "data": {
      "text/plain": [
       "<6x411 sparse matrix of type '<class 'numpy.int64'>'\n",
       "\twith 581 stored elements in Compressed Sparse Row format>"
      ]
     },
     "execution_count": 2,
     "metadata": {},
     "output_type": "execute_result"
    }
   ],
   "source": [
    "mat"
   ]
  },
  {
   "cell_type": "code",
   "execution_count": 3,
   "metadata": {},
   "outputs": [
    {
     "data": {
      "text/plain": [
       "3"
      ]
     },
     "execution_count": 3,
     "metadata": {},
     "output_type": "execute_result"
    }
   ],
   "source": [
    "mat[1,3]"
   ]
  },
  {
   "cell_type": "code",
   "execution_count": 4,
   "metadata": {},
   "outputs": [
    {
     "name": "stdout",
     "output_type": "stream",
     "text": [
      "['aaaye', 'about', 'after', 'age', 'aggression', 'ain', 'alike', 'all', 'alone', 'am', 'an', 'and', 'animal', 'another', 'any', 'apparel', 'are', 'around', 'as', 'at', 'away', 'baby', 'back', 'bad', 'bank', 'barracuda', 'bathroom', 'battle', 'be', 'beat', 'beatlemania', 'beats', 'been', 'before', 'behave', 'best', 'better', 'big', 'bite', 'bitten', 'black', 'blame', 'blockhead', 'bluffin', 'body', 'bodysnatcher', 'bout', 'boys', 'breath', 'brother', 'burnin', 'but', 'by', 'cage', 'calling', 'can', 'cards', 'care', 'casino', 'cause', 'cheat', 'check', 'chick', 'circles', 'city', 'clash', 'close', 'come', 'coming', 'control', 'cooler', 'cops', 'crazy', 'creator', 'creep', 'cries', 'cupboard', 'currency', 'dat', 'day', 'days', 'de', 'deal', 'death', 'declared', 'deh', 'dem', 'dial', 'die', 'direction', 'dis', 'do', 'does', 'doesn', 'don', 'down', 'draw', 'dread', 'dreader', 'dream', 'drowning', 'dust', 'eh', 'else', 'em', 'engines', 'english', 'er', 'erectors', 'error', 'even', 'every', 'except', 'exotic', 'expected', 'eyes', 'face', 'fall', 'fame', 'faraway', 'farm', 'fe', 'fear', 'feather', 'feel', 'feet', 'felt', 'flying', 'fold', 'for', 'forget', 'form', 'from', 'fun', 'gallon', 'gambling', 'game', 'generation', 'get', 'girl', 'girls', 'give', 'glue', 'go', 'gone', 'gonna', 'good', 'got', 'greek', 'growing', 'gun', 'gunning', 'hair', 'hand', 'hard', 'has', 'hate', 'have', 'he', 'hear', 'heart', 'her', 'high', 'him', 'his', 'hit', 'hold', 'holding', 'holiday', 'home', 'hooked', 'hot', 'house', 'hug', 'hungry', 'hunter', 'hunting', 'hurt', 'hurtin', 'ice', 'if', 'imitation', 'in', 'incase', 'inna', 'intuition', 'is', 'isn', 'it', 'jah', 'jungle', 'junkies', 'just', 'kebab', 'keep', 'kick', 'kind', 'kiss', 'know', 'let', 'life', 'light', 'like', 'listen', 'litre', 'little', 'live', 'living', 'll', 'lock', 'locks', 'london', 'look', 'looking', 'looks', 'love', 'luck', 'lying', 'madness', 'mah', 'man', 'marvelous', 'mascara', 'me', 'mean', 'measure', 'meltdown', 'mess', 'metre', 'mile', 'miles', 'million', 'mirror', 'mma', 'moving', 'much', 'muffin', 'mum', 'musically', 'my', 'name', 'nation', 'natty', 'neighbors', 'never', 'new', 'night', 'nipple', 'no', 'nobody', 'nodding', 'none', 'not', 'now', 'nuclear', 'of', 'oh', 'on', 'one', 'only', 'or', 'out', 'ow', 'pair', 'pay', 'phoney', 'pillow', 'pink', 'pistol', 'play', 'please', 'poker', 'politeness', 'pon', 'potential', 'prey', 'promise', 'put', 'quit', 'raise', 're', 'read', 'reggae', 'regrets', 'ring', 'river', 'rock', 'roll', 'rough', 'roulette', 'ruler', 'running', 'runs', 'russian', 'said', 'same', 'saucers', 'saw', 'say', 'says', 'see', 'selection', 'selector', 'set', 'sex', 'sexual', 'shame', 'she', 'shout', 'show', 'sick', 'side', 'skin', 'smile', 'snatcher', 'so', 'some', 'someone', 'sound', 'sp', 'spades', 'special', 'specials', 'start', 'stay', 'stop', 'street', 'strife', 'stunnin', 'suffer', 'sun', 'survive', 'sweet', 'sweeter', 'swing', 'take', 'talkin', 'talking', 'tame', 'tell', 'texas', 'than', 'that', 'the', 'them', 'there', 'they', 'thin', 'thing', 'things', 'this', 'tie', 'tiger', 'time', 'to', 'today', 'tonight', 'too', 'top', 'towns', 'true', 'truncheon', 'trying', 'two', 'type', 'underworld', 'until', 'up', 'us', 've', 'vibration', 'victimed', 'wa', 'walk', 'wanna', 'want', 'wants', 'war', 'was', 'washes', 'watching', 'way', 'we', 'well', 'were', 'what', 'whatever', 'wheat', 'when', 'where', 'while', 'whirlwind', 'white', 'who', 'wild', 'will', 'win', 'with', 'without', 'won', 'wops', 'worst', 'wrong', 'ya', 'yellowy', 'yes', 'you', 'your', 'zombies', 'zone', 'zooming']\n"
     ]
    }
   ],
   "source": [
    "print(vec.get_feature_names())"
   ]
  },
  {
   "cell_type": "markdown",
   "metadata": {},
   "source": [
    "# Train the algorithm"
   ]
  },
  {
   "cell_type": "markdown",
   "metadata": {},
   "source": [
    "This is supervised learning, so label our examples"
   ]
  },
  {
   "cell_type": "code",
   "execution_count": 5,
   "metadata": {},
   "outputs": [
    {
     "data": {
      "text/plain": [
       "['clash', 'clash', 'clash', 'gaga', 'gaga', 'gaga']"
      ]
     },
     "execution_count": 5,
     "metadata": {},
     "output_type": "execute_result"
    }
   ],
   "source": [
    "target=[\"clash\"]*3+[\"gaga\"]*3\n",
    "target"
   ]
  },
  {
   "cell_type": "markdown",
   "metadata": {},
   "source": [
    "Our prior is 50/50"
   ]
  },
  {
   "cell_type": "code",
   "execution_count": 6,
   "metadata": {
    "scrolled": true
   },
   "outputs": [
    {
     "data": {
      "text/plain": [
       "array([3., 3.])"
      ]
     },
     "execution_count": 6,
     "metadata": {},
     "output_type": "execute_result"
    }
   ],
   "source": [
    "import sklearn.naive_bayes\n",
    "classifier=sklearn.naive_bayes.MultinomialNB().fit(mat,target)\n",
    "\n",
    "classifier.class_count_"
   ]
  },
  {
   "cell_type": "markdown",
   "metadata": {},
   "source": [
    "Take a look at our distinguishing features"
   ]
  },
  {
   "cell_type": "code",
   "execution_count": 7,
   "metadata": {},
   "outputs": [
    {
     "data": {
      "text/plain": [
       "{(0.0, 1.0, 'are'),\n",
       " (0.0, 1.0, 'bank'),\n",
       " (0.0, 1.0, 'bathroom'),\n",
       " (0.0, 1.0, 'been'),\n",
       " (0.0, 1.0, 'before'),\n",
       " (0.0, 1.0, 'better'),\n",
       " (0.0, 1.0, 'bluffin'),\n",
       " (0.0, 1.0, 'cards'),\n",
       " (0.0, 1.0, 'casino'),\n",
       " (0.0, 1.0, 'check'),\n",
       " (0.0, 1.0, 'chick'),\n",
       " (0.0, 1.0, 'crazy'),\n",
       " (0.0, 1.0, 'feel'),\n",
       " (0.0, 1.0, 'fold'),\n",
       " (0.0, 1.0, 'gambling'),\n",
       " (0.0, 1.0, 'glue'),\n",
       " (0.0, 1.0, 'gun'),\n",
       " (0.0, 1.0, 'gunning'),\n",
       " (0.0, 1.0, 'hair'),\n",
       " (0.0, 1.0, 'hand'),\n",
       " (0.0, 1.0, 'hard'),\n",
       " (0.0, 1.0, 'heart'),\n",
       " (0.0, 1.0, 'his'),\n",
       " (0.0, 1.0, 'hit'),\n",
       " (0.0, 1.0, 'hooked'),\n",
       " (0.0, 1.0, 'hug'),\n",
       " (0.0, 1.0, 'hunter'),\n",
       " (0.0, 1.0, 'hunting'),\n",
       " (0.0, 1.0, 'intuition'),\n",
       " (0.0, 1.0, 'isn'),\n",
       " (0.0, 1.0, 'kind'),\n",
       " (0.0, 1.0, 'kiss'),\n",
       " (0.0, 1.0, 'let'),\n",
       " (0.0, 1.0, 'light'),\n",
       " (0.0, 1.0, 'little'),\n",
       " (0.0, 1.0, 'luck'),\n",
       " (0.0, 1.0, 'lying'),\n",
       " (0.0, 1.0, 'marvelous'),\n",
       " (0.0, 1.0, 'mess'),\n",
       " (0.0, 1.0, 'mirror'),\n",
       " (0.0, 1.0, 'muffin'),\n",
       " (0.0, 1.0, 'neighbors'),\n",
       " (0.0, 1.0, 'pair'),\n",
       " (0.0, 1.0, 'pay'),\n",
       " (0.0, 1.0, 'please'),\n",
       " (0.0, 1.0, 'prey'),\n",
       " (0.0, 1.0, 'raise'),\n",
       " (0.0, 1.0, 'rough'),\n",
       " (0.0, 1.0, 'roulette'),\n",
       " (0.0, 1.0, 'russian'),\n",
       " (0.0, 1.0, 'sexual'),\n",
       " (0.0, 1.0, 'side'),\n",
       " (0.0, 1.0, 'skin'),\n",
       " (0.0, 1.0, 'spades'),\n",
       " (0.0, 1.0, 'start'),\n",
       " (0.0, 1.0, 'stunnin'),\n",
       " (0.0, 1.0, 'texas'),\n",
       " (0.0, 1.0, 'tiger'),\n",
       " (0.0, 1.0, 'tonight'),\n",
       " (0.0, 1.0, 'type'),\n",
       " (0.0, 1.0, 'whatever'),\n",
       " (0.0, 1.0, 'white'),\n",
       " (0.0, 1.0, 'without'),\n",
       " (0.0, 2.0, 'apparel'),\n",
       " (0.0, 2.0, 'black'),\n",
       " (0.0, 2.0, 'circles'),\n",
       " (0.0, 2.0, 'exotic'),\n",
       " (0.0, 2.0, 'feather'),\n",
       " (0.0, 2.0, 'hold'),\n",
       " (0.0, 2.0, 'jungle'),\n",
       " (0.0, 2.0, 'looks'),\n",
       " (0.0, 2.0, 'mascara'),\n",
       " (0.0, 2.0, 'nobody'),\n",
       " (0.0, 2.0, 'pillow'),\n",
       " (0.0, 2.0, 'pink'),\n",
       " (0.0, 2.0, 'promise'),\n",
       " (0.0, 2.0, 'regrets'),\n",
       " (0.0, 2.0, 'runs'),\n",
       " (0.0, 2.0, 'take'),\n",
       " (0.0, 2.0, 'washes'),\n",
       " (0.0, 2.0, 'wild'),\n",
       " (0.0, 3.0, 'am'),\n",
       " (0.0, 3.0, 'behave'),\n",
       " (0.0, 3.0, 'cage'),\n",
       " (0.0, 3.0, 'cries'),\n",
       " (0.0, 3.0, 'do'),\n",
       " (0.0, 3.0, 'doesn'),\n",
       " (0.0, 3.0, 'em'),\n",
       " (0.0, 3.0, 'fun'),\n",
       " (0.0, 3.0, 'hungry'),\n",
       " (0.0, 3.0, 'lock'),\n",
       " (0.0, 3.0, 'new'),\n",
       " (0.0, 3.0, 'ow'),\n",
       " (0.0, 3.0, 'says'),\n",
       " (0.0, 3.0, 'until'),\n",
       " (0.0, 4.0, 'blame'),\n",
       " (0.0, 4.0, 'er'),\n",
       " (0.0, 4.0, 'mean'),\n",
       " (0.0, 4.0, 'show'),\n",
       " (0.0, 4.0, 'trying'),\n",
       " (0.0, 4.0, 'wants'),\n",
       " (0.0, 4.0, 'worst'),\n",
       " (0.0, 5.0, 'burnin'),\n",
       " (0.0, 5.0, 'hurtin'),\n",
       " (0.0, 6.0, 'bite'),\n",
       " (0.0, 6.0, 'he'),\n",
       " (0.0, 6.0, 'her'),\n",
       " (0.0, 6.0, 'hot'),\n",
       " (0.0, 6.0, 'incase'),\n",
       " (0.0, 6.0, 'mma'),\n",
       " (0.0, 6.0, 'read'),\n",
       " (0.0, 6.0, 'tie'),\n",
       " (0.0, 6.0, 'watching'),\n",
       " (0.0, 7.0, 'keep'),\n",
       " (0.0, 7.0, 'night'),\n",
       " (0.0, 7.0, 'tame'),\n",
       " (0.0, 11.0, 'baby'),\n",
       " (0.0, 12.0, 'girl'),\n",
       " (0.0, 12.0, 'sick'),\n",
       " (0.0, 13.0, 'mah'),\n",
       " (0.0, 14.0, 'him'),\n",
       " (0.0, 14.0, 'poker'),\n",
       " (0.0, 15.0, 'does'),\n",
       " (0.0, 15.0, 'hurt'),\n",
       " (0.0, 15.0, 'where'),\n",
       " (0.0, 16.0, 'face'),\n",
       " (0.0, 21.0, 'love'),\n",
       " (0.0, 21.0, 'she'),\n",
       " (0.0, 39.0, 'mum'),\n",
       " (0.0, 49.0, 'oh'),\n",
       " (0.0, 66.0, 'animal'),\n",
       " (1.0, 0.0, 'aaaye'),\n",
       " (1.0, 0.0, 'about'),\n",
       " (1.0, 0.0, 'aggression'),\n",
       " (1.0, 0.0, 'alone'),\n",
       " (1.0, 0.0, 'another'),\n",
       " (1.0, 0.0, 'around'),\n",
       " (1.0, 0.0, 'bad'),\n",
       " (1.0, 0.0, 'barracuda'),\n",
       " (1.0, 0.0, 'battle'),\n",
       " (1.0, 0.0, 'beatlemania'),\n",
       " (1.0, 0.0, 'beats'),\n",
       " (1.0, 0.0, 'best'),\n",
       " (1.0, 0.0, 'big'),\n",
       " (1.0, 0.0, 'bitten'),\n",
       " (1.0, 0.0, 'body'),\n",
       " (1.0, 0.0, 'bodysnatcher'),\n",
       " (1.0, 0.0, 'boys'),\n",
       " (1.0, 0.0, 'breath'),\n",
       " (1.0, 0.0, 'brother'),\n",
       " (1.0, 0.0, 'care'),\n",
       " (1.0, 0.0, 'city'),\n",
       " (1.0, 0.0, 'close'),\n",
       " (1.0, 0.0, 'cops'),\n",
       " (1.0, 0.0, 'creator'),\n",
       " (1.0, 0.0, 'creep'),\n",
       " (1.0, 0.0, 'cupboard'),\n",
       " (1.0, 0.0, 'currency'),\n",
       " (1.0, 0.0, 'day'),\n",
       " (1.0, 0.0, 'deal'),\n",
       " (1.0, 0.0, 'death'),\n",
       " (1.0, 0.0, 'declared'),\n",
       " (1.0, 0.0, 'dial'),\n",
       " (1.0, 0.0, 'direction'),\n",
       " (1.0, 0.0, 'draw'),\n",
       " (1.0, 0.0, 'dreader'),\n",
       " (1.0, 0.0, 'dream'),\n",
       " (1.0, 0.0, 'dust'),\n",
       " (1.0, 0.0, 'english'),\n",
       " (1.0, 0.0, 'erectors'),\n",
       " (1.0, 0.0, 'even'),\n",
       " (1.0, 0.0, 'every'),\n",
       " (1.0, 0.0, 'expected'),\n",
       " (1.0, 0.0, 'fall'),\n",
       " (1.0, 0.0, 'faraway'),\n",
       " (1.0, 0.0, 'farm'),\n",
       " (1.0, 0.0, 'feet'),\n",
       " (1.0, 0.0, 'felt'),\n",
       " (1.0, 0.0, 'forget'),\n",
       " (1.0, 0.0, 'form'),\n",
       " (1.0, 0.0, 'gallon'),\n",
       " (1.0, 0.0, 'generation'),\n",
       " (1.0, 0.0, 'girls'),\n",
       " (1.0, 0.0, 'greek'),\n",
       " (1.0, 0.0, 'has'),\n",
       " (1.0, 0.0, 'hear'),\n",
       " (1.0, 0.0, 'high'),\n",
       " (1.0, 0.0, 'holding'),\n",
       " (1.0, 0.0, 'holiday'),\n",
       " (1.0, 0.0, 'home'),\n",
       " (1.0, 0.0, 'house'),\n",
       " (1.0, 0.0, 'imitation'),\n",
       " (1.0, 0.0, 'junkies'),\n",
       " (1.0, 0.0, 'kebab'),\n",
       " (1.0, 0.0, 'kick'),\n",
       " (1.0, 0.0, 'life'),\n",
       " (1.0, 0.0, 'litre'),\n",
       " (1.0, 0.0, 'locks'),\n",
       " (1.0, 0.0, 'look'),\n",
       " (1.0, 0.0, 'meltdown'),\n",
       " (1.0, 0.0, 'miles'),\n",
       " (1.0, 0.0, 'million'),\n",
       " (1.0, 0.0, 'moving'),\n",
       " (1.0, 0.0, 'much'),\n",
       " (1.0, 0.0, 'musically'),\n",
       " (1.0, 0.0, 'nation'),\n",
       " (1.0, 0.0, 'natty'),\n",
       " (1.0, 0.0, 'never'),\n",
       " (1.0, 0.0, 'nipple'),\n",
       " (1.0, 0.0, 'nodding'),\n",
       " (1.0, 0.0, 'none'),\n",
       " (1.0, 0.0, 'phoney'),\n",
       " (1.0, 0.0, 'pistol'),\n",
       " (1.0, 0.0, 'politeness'),\n",
       " (1.0, 0.0, 'pon'),\n",
       " (1.0, 0.0, 'potential'),\n",
       " (1.0, 0.0, 'quit'),\n",
       " (1.0, 0.0, 'reggae'),\n",
       " (1.0, 0.0, 'ring'),\n",
       " (1.0, 0.0, 'saw'),\n",
       " (1.0, 0.0, 'set'),\n",
       " (1.0, 0.0, 'sex'),\n",
       " (1.0, 0.0, 'shout'),\n",
       " (1.0, 0.0, 'smile'),\n",
       " (1.0, 0.0, 'snatcher'),\n",
       " (1.0, 0.0, 'someone'),\n",
       " (1.0, 0.0, 'sp'),\n",
       " (1.0, 0.0, 'special'),\n",
       " (1.0, 0.0, 'specials'),\n",
       " (1.0, 0.0, 'street'),\n",
       " (1.0, 0.0, 'strife'),\n",
       " (1.0, 0.0, 'survive'),\n",
       " (1.0, 0.0, 'sweet'),\n",
       " (1.0, 0.0, 'swing'),\n",
       " (1.0, 0.0, 'talkin'),\n",
       " (1.0, 0.0, 'talking'),\n",
       " (1.0, 0.0, 'than'),\n",
       " (1.0, 0.0, 'them'),\n",
       " (1.0, 0.0, 'there'),\n",
       " (1.0, 0.0, 'things'),\n",
       " (1.0, 0.0, 'time'),\n",
       " (1.0, 0.0, 'today'),\n",
       " (1.0, 0.0, 'too'),\n",
       " (1.0, 0.0, 'top'),\n",
       " (1.0, 0.0, 'towns'),\n",
       " (1.0, 0.0, 'true'),\n",
       " (1.0, 0.0, 'truncheon'),\n",
       " (1.0, 0.0, 'two'),\n",
       " (1.0, 0.0, 'underworld'),\n",
       " (1.0, 0.0, 'us'),\n",
       " (1.0, 0.0, 'vibration'),\n",
       " (1.0, 0.0, 'victimed'),\n",
       " (1.0, 0.0, 'wa'),\n",
       " (1.0, 0.0, 'walk'),\n",
       " (1.0, 0.0, 'want'),\n",
       " (1.0, 0.0, 'well'),\n",
       " (1.0, 0.0, 'were'),\n",
       " (1.0, 0.0, 'while'),\n",
       " (1.0, 0.0, 'win'),\n",
       " (1.0, 0.0, 'wops'),\n",
       " (1.0, 0.0, 'wrong'),\n",
       " (1.0, 0.0, 'yellowy'),\n",
       " (1.0, 0.0, 'yes'),\n",
       " (1.0, 0.0, 'zombies'),\n",
       " (1.0, 0.0, 'zone'),\n",
       " (1.0, 1.0, 'after'),\n",
       " (1.0, 1.0, 'be'),\n",
       " (1.0, 1.0, 'control'),\n",
       " (1.0, 1.0, 'on'),\n",
       " (1.0, 1.0, 'said'),\n",
       " (1.0, 1.0, 'same'),\n",
       " (1.0, 1.0, 'stay'),\n",
       " (1.0, 2.0, 'away'),\n",
       " (1.0, 2.0, 'play'),\n",
       " (1.0, 3.0, 'at'),\n",
       " (1.0, 3.0, 'bout'),\n",
       " (1.0, 3.0, 'listen'),\n",
       " (1.0, 3.0, 'looking'),\n",
       " (1.0, 3.0, 'not'),\n",
       " (1.0, 3.0, 'only'),\n",
       " (1.0, 3.0, 'thing'),\n",
       " (1.0, 4.0, 'what'),\n",
       " (1.0, 7.0, 'won'),\n",
       " (1.0, 9.0, 'gonna'),\n",
       " (1.0, 9.0, 'way'),\n",
       " (1.0, 16.0, 're'),\n",
       " (2.0, 0.0, 'ain'),\n",
       " (2.0, 0.0, 'any'),\n",
       " (2.0, 0.0, 'as'),\n",
       " (2.0, 0.0, 'beat'),\n",
       " (2.0, 0.0, 'blockhead'),\n",
       " (2.0, 0.0, 'cheat'),\n",
       " (2.0, 0.0, 'dat'),\n",
       " (2.0, 0.0, 'days'),\n",
       " (2.0, 0.0, 'dis'),\n",
       " (2.0, 0.0, 'dread'),\n",
       " (2.0, 0.0, 'error'),\n",
       " (2.0, 0.0, 'except'),\n",
       " (2.0, 0.0, 'flying'),\n",
       " (2.0, 0.0, 'for'),\n",
       " (2.0, 0.0, 'give'),\n",
       " (2.0, 0.0, 'go'),\n",
       " (2.0, 0.0, 'good'),\n",
       " (2.0, 0.0, 'madness'),\n",
       " (2.0, 0.0, 'nuclear'),\n",
       " (2.0, 0.0, 'put'),\n",
       " (2.0, 0.0, 'rock'),\n",
       " (2.0, 0.0, 'saucers'),\n",
       " (2.0, 0.0, 'selection'),\n",
       " (2.0, 0.0, 'selector'),\n",
       " (2.0, 0.0, 'was'),\n",
       " (2.0, 0.0, 'whirlwind'),\n",
       " (2.0, 0.0, 'who'),\n",
       " (2.0, 0.0, 'ya'),\n",
       " (2.0, 1.0, 'one'),\n",
       " (2.0, 1.0, 'roll'),\n",
       " (2.0, 2.0, 'eyes'),\n",
       " (2.0, 2.0, 'from'),\n",
       " (2.0, 2.0, 'wanna'),\n",
       " (2.0, 4.0, 've'),\n",
       " (2.0, 6.0, 'just'),\n",
       " (2.0, 7.0, 'll'),\n",
       " (2.0, 9.0, 'that'),\n",
       " (2.0, 15.0, 'like'),\n",
       " (3.0, 0.0, 'age'),\n",
       " (3.0, 0.0, 'back'),\n",
       " (3.0, 0.0, 'come'),\n",
       " (3.0, 0.0, 'coming'),\n",
       " (3.0, 0.0, 'deh'),\n",
       " (3.0, 0.0, 'drowning'),\n",
       " (3.0, 0.0, 'engines'),\n",
       " (3.0, 0.0, 'fame'),\n",
       " (3.0, 0.0, 'fear'),\n",
       " (3.0, 0.0, 'gone'),\n",
       " (3.0, 0.0, 'growing'),\n",
       " (3.0, 0.0, 'ice'),\n",
       " (3.0, 0.0, 'living'),\n",
       " (3.0, 0.0, 'metre'),\n",
       " (3.0, 0.0, 'mile'),\n",
       " (3.0, 0.0, 'river'),\n",
       " (3.0, 0.0, 'running'),\n",
       " (3.0, 0.0, 'suffer'),\n",
       " (3.0, 0.0, 'sun'),\n",
       " (3.0, 0.0, 'sweeter'),\n",
       " (3.0, 0.0, 'thin'),\n",
       " (3.0, 0.0, 'wheat'),\n",
       " (3.0, 0.0, 'zooming'),\n",
       " (3.0, 1.0, 'they'),\n",
       " (3.0, 1.0, 'will'),\n",
       " (3.0, 3.0, 'stop'),\n",
       " (3.0, 4.0, 'down'),\n",
       " (3.0, 4.0, 'this'),\n",
       " (3.0, 9.0, 'can'),\n",
       " (4.0, 0.0, 'alike'),\n",
       " (4.0, 0.0, 'by'),\n",
       " (4.0, 0.0, 'cooler'),\n",
       " (4.0, 0.0, 'de'),\n",
       " (4.0, 0.0, 'measure'),\n",
       " (4.0, 0.0, 'ruler'),\n",
       " (4.0, 1.0, 'game'),\n",
       " (4.0, 1.0, 'out'),\n",
       " (4.0, 4.0, 'get'),\n",
       " (4.0, 6.0, 'with'),\n",
       " (4.0, 7.0, 'see'),\n",
       " (4.0, 13.0, 'my'),\n",
       " (5.0, 0.0, 'die'),\n",
       " (5.0, 0.0, 'jah'),\n",
       " (5.0, 0.0, 'now'),\n",
       " (5.0, 2.0, 'we'),\n",
       " (5.0, 3.0, 'man'),\n",
       " (5.0, 4.0, 'don'),\n",
       " (6.0, 0.0, 'else'),\n",
       " (6.0, 0.0, 'inna'),\n",
       " (6.0, 0.0, 'name'),\n",
       " (6.0, 0.0, 'shame'),\n",
       " (6.0, 0.0, 'sound'),\n",
       " (6.0, 1.0, 'or'),\n",
       " (6.0, 2.0, 'cause'),\n",
       " (6.0, 2.0, 'when'),\n",
       " (6.0, 7.0, 'but'),\n",
       " (6.0, 10.0, 'got'),\n",
       " (6.0, 25.0, 'an'),\n",
       " (7.0, 1.0, 'have'),\n",
       " (7.0, 1.0, 'if'),\n",
       " (7.0, 3.0, 'know'),\n",
       " (7.0, 3.0, 'your'),\n",
       " (7.0, 14.0, 'up'),\n",
       " (8.0, 0.0, 'fe'),\n",
       " (8.0, 0.0, 'so'),\n",
       " (8.0, 1.0, 'of'),\n",
       " (8.0, 8.0, 'all'),\n",
       " (9.0, 0.0, 'live'),\n",
       " (9.0, 0.0, 'some'),\n",
       " (9.0, 1.0, 'tell'),\n",
       " (9.0, 2.0, 'no'),\n",
       " (10.0, 0.0, 'clash'),\n",
       " (10.0, 0.0, 'dem'),\n",
       " (10.0, 0.0, 'eh'),\n",
       " (10.0, 0.0, 'war'),\n",
       " (11.0, 0.0, 'calling'),\n",
       " (12.0, 2.0, 'is'),\n",
       " (12.0, 32.0, 'it'),\n",
       " (14.0, 0.0, 'london'),\n",
       " (15.0, 0.0, 'hate'),\n",
       " (16.0, 15.0, 'me'),\n",
       " (18.0, 15.0, 'in'),\n",
       " (19.0, 12.0, 'to'),\n",
       " (26.0, 1.0, 'say'),\n",
       " (38.0, 15.0, 'and'),\n",
       " (42.0, 26.0, 'the'),\n",
       " (50.0, 61.0, 'you')}"
      ]
     },
     "execution_count": 7,
     "metadata": {},
     "output_type": "execute_result"
    }
   ],
   "source": [
    "scores=set(zip(classifier.feature_count_[0],classifier.feature_count_[1],vec.get_feature_names()))\n",
    "scores"
   ]
  },
  {
   "cell_type": "code",
   "execution_count": 8,
   "metadata": {},
   "outputs": [
    {
     "data": {
      "text/plain": [
       "[(-25.0, 'say'),\n",
       " (-23.0, 'and'),\n",
       " (-16.0, 'the'),\n",
       " (-15.0, 'hate'),\n",
       " (-14.0, 'london'),\n",
       " (-11.0, 'calling'),\n",
       " (-10.0, 'clash'),\n",
       " (-10.0, 'dem'),\n",
       " (-10.0, 'eh'),\n",
       " (-10.0, 'is')]"
      ]
     },
     "execution_count": 8,
     "metadata": {},
     "output_type": "execute_result"
    }
   ],
   "source": [
    "delta_score=[]\n",
    "for i in scores:\n",
    "    delta_score.append((i[1]-i[0],i[2]))\n",
    "delta_score.sort()\n",
    "delta_score[:10]                       "
   ]
  },
  {
   "cell_type": "code",
   "execution_count": 9,
   "metadata": {},
   "outputs": [
    {
     "data": {
      "text/plain": [
       "[(15.0, 're'),\n",
       " (15.0, 'where'),\n",
       " (16.0, 'face'),\n",
       " (19.0, 'an'),\n",
       " (20.0, 'it'),\n",
       " (21.0, 'love'),\n",
       " (21.0, 'she'),\n",
       " (39.0, 'mum'),\n",
       " (49.0, 'oh'),\n",
       " (66.0, 'animal')]"
      ]
     },
     "execution_count": 9,
     "metadata": {},
     "output_type": "execute_result"
    }
   ],
   "source": [
    "delta_score[-10:]"
   ]
  },
  {
   "cell_type": "markdown",
   "metadata": {},
   "source": [
    "# Test the algorithm"
   ]
  },
  {
   "cell_type": "code",
   "execution_count": 10,
   "metadata": {},
   "outputs": [
    {
     "data": {
      "text/plain": [
       "<1x411 sparse matrix of type '<class 'numpy.int64'>'\n",
       "\twith 104 stored elements in Compressed Sparse Row format>"
      ]
     },
     "execution_count": 10,
     "metadata": {},
     "output_type": "execute_result"
    }
   ],
   "source": [
    "testdoc=vec.transform([open('lyrics/gaga/pokerface.txt').read()])\n",
    "testdoc\n"
   ]
  },
  {
   "cell_type": "code",
   "execution_count": 11,
   "metadata": {},
   "outputs": [
    {
     "data": {
      "text/plain": [
       "array(['gaga'], dtype='<U5')"
      ]
     },
     "execution_count": 11,
     "metadata": {},
     "output_type": "execute_result"
    }
   ],
   "source": [
    "classifier.predict(testdoc)"
   ]
  },
  {
   "cell_type": "code",
   "execution_count": 12,
   "metadata": {},
   "outputs": [
    {
     "data": {
      "text/plain": [
       "array(['clash'], dtype='<U5')"
      ]
     },
     "execution_count": 12,
     "metadata": {},
     "output_type": "execute_result"
    }
   ],
   "source": [
    "testdoc=vec.transform([open('lyrics/clash/dirtypunk.txt').read()])\n",
    "classifier.predict(testdoc)"
   ]
  },
  {
   "cell_type": "code",
   "execution_count": null,
   "metadata": {},
   "outputs": [],
   "source": []
  }
 ],
 "metadata": {
  "kernelspec": {
   "display_name": "Python 3",
   "language": "python",
   "name": "python3"
  },
  "language_info": {
   "codemirror_mode": {
    "name": "ipython",
    "version": 3
   },
   "file_extension": ".py",
   "mimetype": "text/x-python",
   "name": "python",
   "nbconvert_exporter": "python",
   "pygments_lexer": "ipython3",
   "version": "3.4.3"
  }
 },
 "nbformat": 4,
 "nbformat_minor": 2
}
